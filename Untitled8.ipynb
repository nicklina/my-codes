{
  "nbformat": 4,
  "nbformat_minor": 0,
  "metadata": {
    "colab": {
      "provenance": [],
      "authorship_tag": "ABX9TyP1TpJ9NK6Xt1oqrUhdWxe1",
      "include_colab_link": true
    },
    "kernelspec": {
      "name": "python3",
      "display_name": "Python 3"
    },
    "language_info": {
      "name": "python"
    }
  },
  "cells": [
    {
      "cell_type": "markdown",
      "metadata": {
        "id": "view-in-github",
        "colab_type": "text"
      },
      "source": [
        "<a href=\"https://colab.research.google.com/github/nicklina/my-codes/blob/main/Untitled8.ipynb\" target=\"_parent\"><img src=\"https://colab.research.google.com/assets/colab-badge.svg\" alt=\"Open In Colab\"/></a>"
      ]
    },
    {
      "cell_type": "code",
      "execution_count": null,
      "metadata": {
        "colab": {
          "base_uri": "https://localhost:8080/"
        },
        "id": "itfJHL4Ot55n",
        "outputId": "90edf734-39eb-4783-99d3-a7974a6bd12c"
      },
      "outputs": [
        {
          "output_type": "stream",
          "name": "stdout",
          "text": [
            "Guess the number. It contains 2 digits.\n",
            "Enter your guess: 2\n",
            "⚠️ Please enter a valid two-digit number.\n",
            "Enter your guess: 56\n",
            "Bulls: 0\n",
            "Cows: 0\n",
            "Remaining tries: 6\n",
            "Bulls: 0\n",
            "Cows: 0\n",
            "Remaining tries: 5\n"
          ]
        }
      ],
      "source": [
        "import random\n",
        "\n",
        "secret_number = str(random.randint(10, 99))\n",
        "\n",
        "print(\"Guess the number. It contains 2 digits.\")\n",
        "remaining_try = 7\n",
        "\n",
        "while remaining_try > 0:\n",
        "    player_guess = input(\"Enter your guess: \")\n",
        "\n",
        "    if not player_guess.isdigit() or len(player_guess) != 2:\n",
        "        print(\"⚠️ Please enter a valid two-digit number.\")\n",
        "        continue\n",
        "\n",
        "    if player_guess == secret_number:\n",
        "        print(\"🎉 Yay, you guessed right!\")\n",
        "        print(\"You WIN!\")\n",
        "        break\n",
        "    else:\n",
        "        bulls = 0\n",
        "        cows = 0\n",
        "\n",
        "        if player_guess[0] == secret_number[0]:\n",
        "            bulls += 1\n",
        "        if player_guess[1] == secret_number[1]:\n",
        "            bulls += 1\n",
        "\n",
        "        if player_guess[0] == secret_number[1] or player_guess[1] == secret_number[0]:\n",
        "            cows += 1\n",
        "\n",
        "        print(\"Bulls:\", bulls)\n",
        "        print(\"Cows:\", cows)\n",
        "\n",
        "        remaining_try -= 1\n",
        "        print(\"Remaining tries:\", remaining_try)\n",
        "\n",
        "        if remaining_try < 1:\n",
        "            print(\"❌ You lost the game. The number was:\", secret_number)\n",
        "\n",
        "\n",
        "        print(\"Bulls:\", bulls)\n",
        "        print(\"Cows:\", cows)\n",
        "\n",
        "        remaining_try -= 1\n",
        "        print(\"Remaining tries:\", remaining_try)\n",
        "\n",
        "        if remaining_try < 1:\n",
        "            print(\"❌ You lost the game. The number was:\", secret_number)\n"
      ]
    }
  ]
}